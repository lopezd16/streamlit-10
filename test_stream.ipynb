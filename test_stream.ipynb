{
 "cells": [
  {
   "cell_type": "code",
   "execution_count": 1,
   "id": "fb4e0995",
   "metadata": {},
   "outputs": [
    {
     "name": "stderr",
     "output_type": "stream",
     "text": [
      "2021-07-03 20:02:11.599 \n",
      "  \u001b[33m\u001b[1mWarning:\u001b[0m to view this Streamlit app on a browser, run it with the following\n",
      "  command:\n",
      "\n",
      "    streamlit run C:\\Users\\lopz_\\anaconda3\\lib\\site-packages\\ipykernel_launcher.py [ARGUMENTS]\n"
     ]
    }
   ],
   "source": [
    "import numpy as np\n",
    "import pandas as pd\n",
    "import matplotlib as plt\n",
    "import streamlit as st\n",
    "import base64\n",
    "\n",
    "df = pd.read_csv(\"D:\\Didi\\ARBOL.csv\")\n",
    "\n",
    "d = {'UK': 0, 'USA': 1, 'N': 2}\n",
    "df['Nationality'] = df['Nationality'].map(d)\n",
    "d = {'YES': 1, 'NO': 0}\n",
    "df['Go'] = df['Go'].map(d)\n",
    "\n",
    "features = ['Age', 'Experience', 'Rank', 'Nationality']\n",
    "target = ['Go']\n",
    "\n",
    "X = df[features]\n",
    "y = df['Go']\n",
    "\n",
    "st.title('Val App')\n",
    "\n",
    "st.markdown(\"\"\"\n",
    "First try!!\n",
    "\"\"\")\n",
    "\n",
    "st.sidebar.header('User Input Features')\n",
    "\n",
    "dm = X\n",
    "\n",
    "# Sidebar - Sector selection\n",
    "sorted_sector_unique = sorted( dm['Rank'].unique() )\n",
    "selected_sector = st.sidebar.multiselect('Sector', sorted_sector_unique, sorted_sector_unique)\n",
    "\n",
    "# Filtering data\n",
    "dm_selected_sector = dm[ (dm['Age'].isin(selected_sector)) ]\n",
    "\n",
    "st.header('Filtro')\n",
    "st.write('Data Dimension: ' + str(dm_selected_sector.shape[0]) + ' rows and ' + str(dm_selected_sector.shape[1]) + ' columns.')\n",
    "st.dataframe(dm_selected_sector)\n",
    "\n",
    "\n",
    "# Plot Closing Price of Query Symbol\n",
    "def price_plot(symbol):\n",
    "  dm = pd.DataFrame(data[symbol].Close)\n",
    "  df['Date'] = dm.index\n",
    "  fig = plt.figure()\n",
    "  plt.fill_between(dm.Date, dm.Close, color='skyblue', alpha=0.3)\n",
    "  plt.plot(dm.Date, dm.Close, color='skyblue', alpha=0.8)\n",
    "  plt.xticks(rotation=90)\n",
    "  plt.title(symbol, fontweight='bold')\n",
    "  plt.xlabel('Date', fontweight='bold')\n",
    "  plt.ylabel('Closing Price', fontweight='bold')\n",
    "  return st.pyplot(fig)\n",
    "\n",
    "num_company = st.sidebar.slider('Number of Companies', 1, 5)\n",
    "\n",
    "if st.button('Show Plots'):\n",
    "    st.header('Stock Closing Price')\n",
    "    for i in list(df_selected_sector.Symbol)[:num_company]:\n",
    "        price_plot(i)"
   ]
  }
 ],
 "metadata": {
  "kernelspec": {
   "display_name": "Python 3",
   "language": "python",
   "name": "python3"
  },
  "language_info": {
   "codemirror_mode": {
    "name": "ipython",
    "version": 3
   },
   "file_extension": ".py",
   "mimetype": "text/x-python",
   "name": "python",
   "nbconvert_exporter": "python",
   "pygments_lexer": "ipython3",
   "version": "3.8.8"
  }
 },
 "nbformat": 4,
 "nbformat_minor": 5
}
